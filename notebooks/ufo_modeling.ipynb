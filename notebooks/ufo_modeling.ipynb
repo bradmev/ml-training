{
 "cells": [
  {
   "cell_type": "code",
   "execution_count": 18,
   "id": "d5e5b570-8a80-4837-a4c1-e54fc22ef4e8",
   "metadata": {},
   "outputs": [],
   "source": [
    "import pandas as pd\n",
    "import numpy as np\n",
    "import numpy as np\n",
    "np.bool = np.bool_\n",
    "from datetime import datetime\n",
    "\n",
    "import boto3\n",
    "from sagemaker import get_execution_role\n",
    "import sagemaker.amazon.common as smac"
   ]
  },
  {
   "cell_type": "code",
   "execution_count": 2,
   "id": "1234ac83-f000-4f94-88f7-f4bf0c6342bc",
   "metadata": {},
   "outputs": [],
   "source": [
    "role = get_execution_role()\n",
    "bucket = 'brad-ml-training-input'\n",
    "output_bucket = 'brad-ml-training-output'\n",
    "data_key = 'ufo_fullset.csv'\n",
    "data_location = 's3://{}/{}'.format(bucket, data_key)\n",
    "\n",
    "df = pd.read_csv(data_location, low_memory=False)"
   ]
  },
  {
   "cell_type": "code",
   "execution_count": 3,
   "id": "ce29e75c-396d-4efd-9dde-9ec8aa7d282c",
   "metadata": {},
   "outputs": [
    {
     "data": {
      "text/html": [
       "<div>\n",
       "<style scoped>\n",
       "    .dataframe tbody tr th:only-of-type {\n",
       "        vertical-align: middle;\n",
       "    }\n",
       "\n",
       "    .dataframe tbody tr th {\n",
       "        vertical-align: top;\n",
       "    }\n",
       "\n",
       "    .dataframe thead th {\n",
       "        text-align: right;\n",
       "    }\n",
       "</style>\n",
       "<table border=\"1\" class=\"dataframe\">\n",
       "  <thead>\n",
       "    <tr style=\"text-align: right;\">\n",
       "      <th></th>\n",
       "      <th>reportedTimestamp</th>\n",
       "      <th>eventDate</th>\n",
       "      <th>eventTime</th>\n",
       "      <th>shape</th>\n",
       "      <th>duration</th>\n",
       "      <th>witnesses</th>\n",
       "      <th>weather</th>\n",
       "      <th>firstName</th>\n",
       "      <th>lastName</th>\n",
       "      <th>latitude</th>\n",
       "      <th>longitude</th>\n",
       "      <th>sighting</th>\n",
       "      <th>physicalEvidence</th>\n",
       "      <th>contact</th>\n",
       "      <th>researchOutcome</th>\n",
       "    </tr>\n",
       "  </thead>\n",
       "  <tbody>\n",
       "    <tr>\n",
       "      <th>0</th>\n",
       "      <td>1977-04-04T04:02:23.340Z</td>\n",
       "      <td>1977-03-31</td>\n",
       "      <td>23:46</td>\n",
       "      <td>circle</td>\n",
       "      <td>4</td>\n",
       "      <td>1</td>\n",
       "      <td>rain</td>\n",
       "      <td>Ila</td>\n",
       "      <td>Bashirian</td>\n",
       "      <td>47.329444</td>\n",
       "      <td>-122.578889</td>\n",
       "      <td>Y</td>\n",
       "      <td>N</td>\n",
       "      <td>N</td>\n",
       "      <td>explained</td>\n",
       "    </tr>\n",
       "    <tr>\n",
       "      <th>1</th>\n",
       "      <td>1982-11-22T02:06:32.019Z</td>\n",
       "      <td>1982-11-15</td>\n",
       "      <td>22:04</td>\n",
       "      <td>disk</td>\n",
       "      <td>4</td>\n",
       "      <td>1</td>\n",
       "      <td>partly cloudy</td>\n",
       "      <td>Eriberto</td>\n",
       "      <td>Runolfsson</td>\n",
       "      <td>52.664913</td>\n",
       "      <td>-1.034894</td>\n",
       "      <td>Y</td>\n",
       "      <td>Y</td>\n",
       "      <td>N</td>\n",
       "      <td>explained</td>\n",
       "    </tr>\n",
       "    <tr>\n",
       "      <th>2</th>\n",
       "      <td>1992-12-07T19:06:52.482Z</td>\n",
       "      <td>1992-12-07</td>\n",
       "      <td>19:01</td>\n",
       "      <td>circle</td>\n",
       "      <td>49</td>\n",
       "      <td>1</td>\n",
       "      <td>clear</td>\n",
       "      <td>Miller</td>\n",
       "      <td>Watsica</td>\n",
       "      <td>38.951667</td>\n",
       "      <td>-92.333889</td>\n",
       "      <td>Y</td>\n",
       "      <td>N</td>\n",
       "      <td>N</td>\n",
       "      <td>explained</td>\n",
       "    </tr>\n",
       "    <tr>\n",
       "      <th>3</th>\n",
       "      <td>2011-02-24T21:06:34.898Z</td>\n",
       "      <td>2011-02-21</td>\n",
       "      <td>20:56</td>\n",
       "      <td>disk</td>\n",
       "      <td>13</td>\n",
       "      <td>1</td>\n",
       "      <td>partly cloudy</td>\n",
       "      <td>Clifton</td>\n",
       "      <td>Bechtelar</td>\n",
       "      <td>41.496944</td>\n",
       "      <td>-71.367778</td>\n",
       "      <td>Y</td>\n",
       "      <td>N</td>\n",
       "      <td>N</td>\n",
       "      <td>explained</td>\n",
       "    </tr>\n",
       "    <tr>\n",
       "      <th>4</th>\n",
       "      <td>1991-03-09T16:18:45.501Z</td>\n",
       "      <td>1991-03-09</td>\n",
       "      <td>11:42</td>\n",
       "      <td>circle</td>\n",
       "      <td>17</td>\n",
       "      <td>1</td>\n",
       "      <td>mostly cloudy</td>\n",
       "      <td>Jayda</td>\n",
       "      <td>Ebert</td>\n",
       "      <td>47.606389</td>\n",
       "      <td>-122.330833</td>\n",
       "      <td>Y</td>\n",
       "      <td>N</td>\n",
       "      <td>N</td>\n",
       "      <td>explained</td>\n",
       "    </tr>\n",
       "  </tbody>\n",
       "</table>\n",
       "</div>"
      ],
      "text/plain": [
       "          reportedTimestamp   eventDate eventTime   shape  duration  \\\n",
       "0  1977-04-04T04:02:23.340Z  1977-03-31     23:46  circle         4   \n",
       "1  1982-11-22T02:06:32.019Z  1982-11-15     22:04    disk         4   \n",
       "2  1992-12-07T19:06:52.482Z  1992-12-07     19:01  circle        49   \n",
       "3  2011-02-24T21:06:34.898Z  2011-02-21     20:56    disk        13   \n",
       "4  1991-03-09T16:18:45.501Z  1991-03-09     11:42  circle        17   \n",
       "\n",
       "   witnesses        weather firstName    lastName   latitude   longitude  \\\n",
       "0          1           rain       Ila   Bashirian  47.329444 -122.578889   \n",
       "1          1  partly cloudy  Eriberto  Runolfsson  52.664913   -1.034894   \n",
       "2          1          clear    Miller     Watsica  38.951667  -92.333889   \n",
       "3          1  partly cloudy   Clifton   Bechtelar  41.496944  -71.367778   \n",
       "4          1  mostly cloudy     Jayda       Ebert  47.606389 -122.330833   \n",
       "\n",
       "  sighting physicalEvidence contact researchOutcome  \n",
       "0        Y                N       N       explained  \n",
       "1        Y                Y       N       explained  \n",
       "2        Y                N       N       explained  \n",
       "3        Y                N       N       explained  \n",
       "4        Y                N       N       explained  "
      ]
     },
     "execution_count": 3,
     "metadata": {},
     "output_type": "execute_result"
    }
   ],
   "source": [
    "df.head()"
   ]
  },
  {
   "cell_type": "code",
   "execution_count": 4,
   "id": "528c5785-1929-45c6-9063-89a163f48e23",
   "metadata": {},
   "outputs": [],
   "source": [
    "df_geo = df[['latitude', 'longitude']]"
   ]
  },
  {
   "cell_type": "code",
   "execution_count": 5,
   "id": "8e069841-6198-406e-b355-a681f7fafe0e",
   "metadata": {},
   "outputs": [
    {
     "data": {
      "text/html": [
       "<div>\n",
       "<style scoped>\n",
       "    .dataframe tbody tr th:only-of-type {\n",
       "        vertical-align: middle;\n",
       "    }\n",
       "\n",
       "    .dataframe tbody tr th {\n",
       "        vertical-align: top;\n",
       "    }\n",
       "\n",
       "    .dataframe thead th {\n",
       "        text-align: right;\n",
       "    }\n",
       "</style>\n",
       "<table border=\"1\" class=\"dataframe\">\n",
       "  <thead>\n",
       "    <tr style=\"text-align: right;\">\n",
       "      <th></th>\n",
       "      <th>latitude</th>\n",
       "      <th>longitude</th>\n",
       "    </tr>\n",
       "  </thead>\n",
       "  <tbody>\n",
       "    <tr>\n",
       "      <th>0</th>\n",
       "      <td>47.329444</td>\n",
       "      <td>-122.578889</td>\n",
       "    </tr>\n",
       "    <tr>\n",
       "      <th>1</th>\n",
       "      <td>52.664913</td>\n",
       "      <td>-1.034894</td>\n",
       "    </tr>\n",
       "    <tr>\n",
       "      <th>2</th>\n",
       "      <td>38.951667</td>\n",
       "      <td>-92.333889</td>\n",
       "    </tr>\n",
       "    <tr>\n",
       "      <th>3</th>\n",
       "      <td>41.496944</td>\n",
       "      <td>-71.367778</td>\n",
       "    </tr>\n",
       "    <tr>\n",
       "      <th>4</th>\n",
       "      <td>47.606389</td>\n",
       "      <td>-122.330833</td>\n",
       "    </tr>\n",
       "  </tbody>\n",
       "</table>\n",
       "</div>"
      ],
      "text/plain": [
       "    latitude   longitude\n",
       "0  47.329444 -122.578889\n",
       "1  52.664913   -1.034894\n",
       "2  38.951667  -92.333889\n",
       "3  41.496944  -71.367778\n",
       "4  47.606389 -122.330833"
      ]
     },
     "execution_count": 5,
     "metadata": {},
     "output_type": "execute_result"
    }
   ],
   "source": [
    "df_geo.head()"
   ]
  },
  {
   "cell_type": "code",
   "execution_count": 11,
   "id": "0cbd533b-36cb-4200-b345-5538ebba5df8",
   "metadata": {},
   "outputs": [
    {
     "name": "stdout",
     "output_type": "stream",
     "text": [
      "Are there any missing values? False\n"
     ]
    }
   ],
   "source": [
    "missing_values = df_geo.isnull().values.any()\n",
    "print('Are there any missing values? {}'.format(missing_values))\n",
    "if(missing_values):\n",
    "    df_geo[df_geo.isnull().any(axis=1)]"
   ]
  },
  {
   "cell_type": "code",
   "execution_count": 12,
   "id": "1d410049-791e-4044-8d12-357090f0a7eb",
   "metadata": {},
   "outputs": [
    {
     "data": {
      "text/plain": [
       "array([[  47.329445, -122.57889 ],\n",
       "       [  52.664913,   -1.034894],\n",
       "       [  38.951668,  -92.333885],\n",
       "       ...,\n",
       "       [  36.86639 ,  -83.888885],\n",
       "       [  35.385834,  -94.39833 ],\n",
       "       [  29.883055,  -97.94111 ]], dtype=float32)"
      ]
     },
     "execution_count": 12,
     "metadata": {},
     "output_type": "execute_result"
    }
   ],
   "source": [
    "data_train = df_geo.values.astype('float32')\n",
    "data_train"
   ]
  },
  {
   "cell_type": "code",
   "execution_count": 13,
   "id": "ba73db07-a8a3-4c5c-a444-abe34bb2498f",
   "metadata": {},
   "outputs": [],
   "source": [
    "from sagemaker import KMeans\n",
    "\n",
    "num_clusters = 10\n",
    "output_location = 's3://' + output_bucket + '/'\n",
    "\n",
    "kmeans = KMeans(role=role,\n",
    "               instance_count=1,\n",
    "               instance_type='ml.c4.xlarge',\n",
    "               output_path=output_location,\n",
    "               k=num_clusters)"
   ]
  },
  {
   "cell_type": "code",
   "execution_count": 14,
   "id": "ef65c4f2-5d84-4219-892c-34e2555c6c2e",
   "metadata": {},
   "outputs": [
    {
     "name": "stdout",
     "output_type": "stream",
     "text": [
      "Here is the job name kmeans-geo-job-20240917233006\n"
     ]
    }
   ],
   "source": [
    "job_name = 'kmeans-geo-job-{}'.format(datetime.now().strftime(\"%Y%m%d%H%M%S\"))\n",
    "print('Here is the job name {}'.format(job_name))"
   ]
  },
  {
   "cell_type": "code",
   "execution_count": 15,
   "id": "e3b67165-68b1-4b9c-b984-8a10062b9eae",
   "metadata": {},
   "outputs": [
    {
     "name": "stderr",
     "output_type": "stream",
     "text": [
      "INFO:sagemaker.image_uris:Same images used for training and inference. Defaulting to image scope: inference.\n",
      "INFO:sagemaker.image_uris:Ignoring unnecessary instance type: None.\n",
      "INFO:sagemaker:Creating training-job with name: kmeans-geo-job-20240917233006\n"
     ]
    },
    {
     "name": "stdout",
     "output_type": "stream",
     "text": [
      "2024-09-17 23:30:13 Starting - Starting the training job...\n",
      "2024-09-17 23:30:28 Starting - Preparing the instances for training...\n",
      "2024-09-17 23:31:00 Downloading - Downloading input data...\n",
      "2024-09-17 23:31:35 Downloading - Downloading the training image.........\n",
      "2024-09-17 23:33:08 Training - Training image download completed. Training in progress.\n",
      "2024-09-17 23:33:08 Uploading - Uploading generated training model\u001b[34mDocker entrypoint called with argument(s): train\u001b[0m\n",
      "\u001b[34mRunning default environment configuration script\u001b[0m\n",
      "\u001b[34m[09/17/2024 23:33:03 INFO 140114161706816] Reading default configuration from /opt/amazon/lib/python3.8/site-packages/algorithm/resources/default-input.json: {'init_method': 'random', 'mini_batch_size': '5000', 'epochs': '1', 'extra_center_factor': 'auto', 'local_lloyd_max_iter': '300', 'local_lloyd_tol': '0.0001', 'local_lloyd_init_method': 'kmeans++', 'local_lloyd_num_trials': 'auto', 'half_life_time_size': '0', 'eval_metrics': '[\"msd\"]', 'force_dense': 'true', '_disable_wait_to_read': 'false', '_enable_profiler': 'false', '_kvstore': 'auto', '_log_level': 'info', '_num_gpus': 'auto', '_num_kv_servers': '1', '_num_slices': '1', '_tuning_objective_metric': ''}\u001b[0m\n",
      "\u001b[34m[09/17/2024 23:33:03 INFO 140114161706816] Merging with provided configuration from /opt/ml/input/config/hyperparameters.json: {'feature_dim': '2', 'force_dense': 'True', 'k': '10'}\u001b[0m\n",
      "\u001b[34m[09/17/2024 23:33:03 INFO 140114161706816] Final configuration: {'init_method': 'random', 'mini_batch_size': '5000', 'epochs': '1', 'extra_center_factor': 'auto', 'local_lloyd_max_iter': '300', 'local_lloyd_tol': '0.0001', 'local_lloyd_init_method': 'kmeans++', 'local_lloyd_num_trials': 'auto', 'half_life_time_size': '0', 'eval_metrics': '[\"msd\"]', 'force_dense': 'True', '_disable_wait_to_read': 'false', '_enable_profiler': 'false', '_kvstore': 'auto', '_log_level': 'info', '_num_gpus': 'auto', '_num_kv_servers': '1', '_num_slices': '1', '_tuning_objective_metric': '', 'feature_dim': '2', 'k': '10'}\u001b[0m\n",
      "\u001b[34m/opt/amazon/lib/python3.8/site-packages/mxnet/model.py:97: SyntaxWarning: \"is\" with a literal. Did you mean \"==\"?\n",
      "  if num_device is 1 and 'dist' not in kvstore:\u001b[0m\n",
      "\u001b[34m[09/17/2024 23:33:05 WARNING 140114161706816] Loggers have already been setup.\u001b[0m\n",
      "\u001b[34m[09/17/2024 23:33:05 INFO 140114161706816] Final configuration: {'init_method': 'random', 'mini_batch_size': '5000', 'epochs': '1', 'extra_center_factor': 'auto', 'local_lloyd_max_iter': '300', 'local_lloyd_tol': '0.0001', 'local_lloyd_init_method': 'kmeans++', 'local_lloyd_num_trials': 'auto', 'half_life_time_size': '0', 'eval_metrics': '[\"msd\"]', 'force_dense': 'True', '_disable_wait_to_read': 'false', '_enable_profiler': 'false', '_kvstore': 'auto', '_log_level': 'info', '_num_gpus': 'auto', '_num_kv_servers': '1', '_num_slices': '1', '_tuning_objective_metric': '', 'feature_dim': '2', 'k': '10'}\u001b[0m\n",
      "\u001b[34m[09/17/2024 23:33:05 WARNING 140114161706816] Loggers have already been setup.\u001b[0m\n",
      "\u001b[34mProcess 7 is a worker.\u001b[0m\n",
      "\u001b[34m[09/17/2024 23:33:05 INFO 140114161706816] Using default worker.\u001b[0m\n",
      "\u001b[34m[09/17/2024 23:33:05 INFO 140114161706816] Loaded iterator creator application/x-recordio-protobuf for content type ('application/x-recordio-protobuf', '1.0')\u001b[0m\n",
      "\u001b[34m[09/17/2024 23:33:05 INFO 140114161706816] Create Store: local\u001b[0m\n",
      "\u001b[34m/opt/amazon/python3.8/lib/python3.8/subprocess.py:848: RuntimeWarning: line buffering (buffering=1) isn't supported in binary mode, the default buffer size will be used\n",
      "  self.stdout = io.open(c2pread, 'rb', bufsize)\u001b[0m\n",
      "\u001b[34m[09/17/2024 23:33:05 INFO 140114161706816] nvidia-smi: took 0.030 seconds to run.\u001b[0m\n",
      "\u001b[34m[09/17/2024 23:33:05 INFO 140114161706816] nvidia-smi identified 0 GPUs.\u001b[0m\n",
      "\u001b[34m[09/17/2024 23:33:05 INFO 140114161706816] Number of GPUs being used: 0\u001b[0m\n",
      "\u001b[34m[09/17/2024 23:33:05 INFO 140114161706816] Checkpoint loading and saving are disabled.\u001b[0m\n",
      "\u001b[34m[09/17/2024 23:33:05 INFO 140114161706816] Setting up with params: {'init_method': 'random', 'mini_batch_size': '5000', 'epochs': '1', 'extra_center_factor': 'auto', 'local_lloyd_max_iter': '300', 'local_lloyd_tol': '0.0001', 'local_lloyd_init_method': 'kmeans++', 'local_lloyd_num_trials': 'auto', 'half_life_time_size': '0', 'eval_metrics': '[\"msd\"]', 'force_dense': 'True', '_disable_wait_to_read': 'false', '_enable_profiler': 'false', '_kvstore': 'auto', '_log_level': 'info', '_num_gpus': 'auto', '_num_kv_servers': '1', '_num_slices': '1', '_tuning_objective_metric': '', 'feature_dim': '2', 'k': '10'}\u001b[0m\n",
      "\u001b[34m[09/17/2024 23:33:05 INFO 140114161706816] 'extra_center_factor' was set to 'auto', evaluated to 10.\u001b[0m\n",
      "\u001b[34m[09/17/2024 23:33:05 INFO 140114161706816] Number of GPUs being used: 0\u001b[0m\n",
      "\u001b[34m[09/17/2024 23:33:05 INFO 140114161706816] number of center slices 1\u001b[0m\n",
      "\u001b[34m#metrics {\"StartTime\": 1726615985.2110453, \"EndTime\": 1726615985.2110693, \"Dimensions\": {\"Algorithm\": \"AWS/KMeansWebscale\", \"Host\": \"algo-1\", \"Operation\": \"training\", \"Meta\": \"init_train_data_iter\"}, \"Metrics\": {\"Total Records Seen\": {\"sum\": 5000.0, \"count\": 1, \"min\": 5000, \"max\": 5000}, \"Total Batches Seen\": {\"sum\": 1.0, \"count\": 1, \"min\": 1, \"max\": 1}, \"Max Records Seen Between Resets\": {\"sum\": 5000.0, \"count\": 1, \"min\": 5000, \"max\": 5000}, \"Max Batches Seen Between Resets\": {\"sum\": 1.0, \"count\": 1, \"min\": 1, \"max\": 1}, \"Reset Count\": {\"sum\": 0.0, \"count\": 1, \"min\": 0, \"max\": 0}, \"Number of Records Since Last Reset\": {\"sum\": 5000.0, \"count\": 1, \"min\": 5000, \"max\": 5000}, \"Number of Batches Since Last Reset\": {\"sum\": 1.0, \"count\": 1, \"min\": 1, \"max\": 1}}}\u001b[0m\n",
      "\u001b[34m[2024-09-17 23:33:05.211] [tensorio] [info] epoch_stats={\"data_pipeline\": \"/opt/ml/input/data/train\", \"epoch\": 0, \"duration\": 21, \"num_examples\": 1, \"num_bytes\": 160000}\u001b[0m\n",
      "\u001b[34m[2024-09-17 23:33:05.267] [tensorio] [info] epoch_stats={\"data_pipeline\": \"/opt/ml/input/data/train\", \"epoch\": 1, \"duration\": 55, \"num_examples\": 4, \"num_bytes\": 576000}\u001b[0m\n",
      "\u001b[34m[09/17/2024 23:33:05 INFO 140114161706816] processed a total of 18000 examples\u001b[0m\n",
      "\u001b[34m[09/17/2024 23:33:05 INFO 140114161706816] #progress_metric: host=algo-1, completed 100.0 % of epochs\u001b[0m\n",
      "\u001b[34m#metrics {\"StartTime\": 1726615985.211428, \"EndTime\": 1726615985.2679842, \"Dimensions\": {\"Algorithm\": \"AWS/KMeansWebscale\", \"Host\": \"algo-1\", \"Operation\": \"training\", \"epoch\": 0, \"Meta\": \"training_data_iter\"}, \"Metrics\": {\"Total Records Seen\": {\"sum\": 23000.0, \"count\": 1, \"min\": 23000, \"max\": 23000}, \"Total Batches Seen\": {\"sum\": 5.0, \"count\": 1, \"min\": 5, \"max\": 5}, \"Max Records Seen Between Resets\": {\"sum\": 18000.0, \"count\": 1, \"min\": 18000, \"max\": 18000}, \"Max Batches Seen Between Resets\": {\"sum\": 4.0, \"count\": 1, \"min\": 4, \"max\": 4}, \"Reset Count\": {\"sum\": 1.0, \"count\": 1, \"min\": 1, \"max\": 1}, \"Number of Records Since Last Reset\": {\"sum\": 18000.0, \"count\": 1, \"min\": 18000, \"max\": 18000}, \"Number of Batches Since Last Reset\": {\"sum\": 4.0, \"count\": 1, \"min\": 4, \"max\": 4}}}\u001b[0m\n",
      "\u001b[34m[09/17/2024 23:33:05 INFO 140114161706816] #throughput_metric: host=algo-1, train throughput=317568.52979775885 records/second\u001b[0m\n",
      "\u001b[34m[09/17/2024 23:33:05 WARNING 140114161706816] wait_for_all_workers will not sync workers since the kv store is not running distributed\u001b[0m\n",
      "\u001b[34m[09/17/2024 23:33:05 INFO 140114161706816] shrinking 100 centers into 10\u001b[0m\n",
      "\u001b[34m[09/17/2024 23:33:05 INFO 140114161706816] local kmeans attempt #0. Current mean square distance 34.768024\u001b[0m\n",
      "\u001b[34m[09/17/2024 23:33:05 INFO 140114161706816] local kmeans attempt #1. Current mean square distance 38.373707\u001b[0m\n",
      "\u001b[34m[09/17/2024 23:33:05 INFO 140114161706816] local kmeans attempt #2. Current mean square distance 34.080395\u001b[0m\n",
      "\u001b[34m[09/17/2024 23:33:05 INFO 140114161706816] local kmeans attempt #3. Current mean square distance 36.922146\u001b[0m\n",
      "\u001b[34m[09/17/2024 23:33:05 INFO 140114161706816] local kmeans attempt #4. Current mean square distance 38.392902\u001b[0m\n",
      "\u001b[34m[09/17/2024 23:33:05 INFO 140114161706816] local kmeans attempt #5. Current mean square distance 31.029827\u001b[0m\n",
      "\u001b[34m[09/17/2024 23:33:05 INFO 140114161706816] local kmeans attempt #6. Current mean square distance 36.383610\u001b[0m\n",
      "\u001b[34m[09/17/2024 23:33:05 INFO 140114161706816] local kmeans attempt #7. Current mean square distance 35.770405\u001b[0m\n",
      "\u001b[34m[09/17/2024 23:33:05 INFO 140114161706816] local kmeans attempt #8. Current mean square distance 31.460455\u001b[0m\n",
      "\u001b[34m[09/17/2024 23:33:05 INFO 140114161706816] local kmeans attempt #9. Current mean square distance 33.394039\u001b[0m\n",
      "\u001b[34m[09/17/2024 23:33:05 INFO 140114161706816] finished shrinking process. Mean Square Distance = 31\u001b[0m\n",
      "\u001b[34m[09/17/2024 23:33:05 INFO 140114161706816] #quality_metric: host=algo-1, train msd <loss>=31.029827117919922\u001b[0m\n",
      "\u001b[34m[09/17/2024 23:33:05 INFO 140114161706816] predict compute msd took: 25.6996%, (0.015718 secs)\u001b[0m\n",
      "\u001b[34m[09/17/2024 23:33:05 INFO 140114161706816] compute all data-center distances: inner product took: 24.1782%, (0.014788 secs)\u001b[0m\n",
      "\u001b[34m[09/17/2024 23:33:05 INFO 140114161706816] gradient: cluster size  took: 14.8000%, (0.009052 secs)\u001b[0m\n",
      "\u001b[34m[09/17/2024 23:33:05 INFO 140114161706816] collect from kv store took: 10.0509%, (0.006147 secs)\u001b[0m\n",
      "\u001b[34m[09/17/2024 23:33:05 INFO 140114161706816] splitting centers key-value pair took: 9.5758%, (0.005857 secs)\u001b[0m\n",
      "\u001b[34m[09/17/2024 23:33:05 INFO 140114161706816] batch data loading with context took: 7.1624%, (0.004381 secs)\u001b[0m\n",
      "\u001b[34m[09/17/2024 23:33:05 INFO 140114161706816] gradient: cluster center took: 3.2261%, (0.001973 secs)\u001b[0m\n",
      "\u001b[34m[09/17/2024 23:33:05 INFO 140114161706816] update state and report convergance took: 1.8582%, (0.001137 secs)\u001b[0m\n",
      "\u001b[34m[09/17/2024 23:33:05 INFO 140114161706816] compute all data-center distances: point norm took: 1.2872%, (0.000787 secs)\u001b[0m\n",
      "\u001b[34m[09/17/2024 23:33:05 INFO 140114161706816] gradient: one_hot took: 1.2423%, (0.000760 secs)\u001b[0m\n",
      "\u001b[34m[09/17/2024 23:33:05 INFO 140114161706816] compute all data-center distances: center norm took: 0.5683%, (0.000348 secs)\u001b[0m\n",
      "\u001b[34m[09/17/2024 23:33:05 INFO 140114161706816] update set-up time took: 0.2553%, (0.000156 secs)\u001b[0m\n",
      "\u001b[34m[09/17/2024 23:33:05 INFO 140114161706816] predict minus dist took: 0.0955%, (0.000058 secs)\u001b[0m\n",
      "\u001b[34m[09/17/2024 23:33:05 INFO 140114161706816] TOTAL took: 0.06116223335266113\u001b[0m\n",
      "\u001b[34m[09/17/2024 23:33:05 INFO 140114161706816] Number of GPUs being used: 0\u001b[0m\n",
      "\u001b[34m#metrics {\"StartTime\": 1726615985.1889613, \"EndTime\": 1726615985.4747405, \"Dimensions\": {\"Algorithm\": \"AWS/KMeansWebscale\", \"Host\": \"algo-1\", \"Operation\": \"training\"}, \"Metrics\": {\"initialize.time\": {\"sum\": 17.608165740966797, \"count\": 1, \"min\": 17.608165740966797, \"max\": 17.608165740966797}, \"epochs\": {\"sum\": 1.0, \"count\": 1, \"min\": 1, \"max\": 1}, \"update.time\": {\"sum\": 56.383371353149414, \"count\": 1, \"min\": 56.383371353149414, \"max\": 56.383371353149414}, \"_shrink.time\": {\"sum\": 205.15799522399902, \"count\": 1, \"min\": 205.15799522399902, \"max\": 205.15799522399902}, \"finalize.time\": {\"sum\": 206.26330375671387, \"count\": 1, \"min\": 206.26330375671387, \"max\": 206.26330375671387}, \"model.serialize.time\": {\"sum\": 0.1785755157470703, \"count\": 1, \"min\": 0.1785755157470703, \"max\": 0.1785755157470703}}}\u001b[0m\n",
      "\u001b[34m[09/17/2024 23:33:05 INFO 140114161706816] Test data is not provided.\u001b[0m\n",
      "\u001b[34m#metrics {\"StartTime\": 1726615985.474827, \"EndTime\": 1726615985.4750264, \"Dimensions\": {\"Algorithm\": \"AWS/KMeansWebscale\", \"Host\": \"algo-1\", \"Operation\": \"training\"}, \"Metrics\": {\"setuptime\": {\"sum\": 1.710653305053711, \"count\": 1, \"min\": 1.710653305053711, \"max\": 1.710653305053711}, \"totaltime\": {\"sum\": 329.94627952575684, \"count\": 1, \"min\": 329.94627952575684, \"max\": 329.94627952575684}}}\u001b[0m\n",
      "\n",
      "2024-09-17 23:33:21 Completed - Training job completed\n",
      "Training seconds: 142\n",
      "Billable seconds: 142\n",
      "CPU times: user 703 ms, sys: 26.8 ms, total: 730 ms\n",
      "Wall time: 4min 11s\n"
     ]
    }
   ],
   "source": [
    "%%time\n",
    "kmeans.fit(kmeans.record_set(data_train), job_name=job_name)"
   ]
  },
  {
   "cell_type": "code",
   "execution_count": 16,
   "id": "40a89ac6-9494-4185-a57c-ec3d5ff1c712",
   "metadata": {},
   "outputs": [
    {
     "name": "stdout",
     "output_type": "stream",
     "text": [
      "model_algo-1\n",
      "Archive:  model_algo-1\n"
     ]
    },
    {
     "name": "stderr",
     "output_type": "stream",
     "text": [
      "tar: Ignoring unknown extended header keyword 'LIBARCHIVE.creationtime'\n",
      "  End-of-central-directory signature not found.  Either this file is not\n",
      "  a zipfile, or it constitutes one disk of a multi-part archive.  In the\n",
      "  latter case the central directory and zipfile comment will be found on\n",
      "  the last disk(s) of this archive.\n",
      "unzip:  cannot find zipfile directory in one of model_algo-1 or\n",
      "        model_algo-1.zip, and cannot find model_algo-1.ZIP, period.\n"
     ]
    },
    {
     "data": {
      "text/plain": [
       "2304"
      ]
     },
     "execution_count": 16,
     "metadata": {},
     "output_type": "execute_result"
    }
   ],
   "source": [
    "import os\n",
    "model_key = '' + job_name + '/output/model.tar.gz'\n",
    "\n",
    "boto3.resource('s3').Bucket(output_bucket).download_file(model_key, 'model.tar.gz')\n",
    "os.system('tar -zxvf model.tar.gz')\n",
    "os.system('unzip model_algo-1')"
   ]
  },
  {
   "cell_type": "code",
   "execution_count": 25,
   "id": "8115d12a-85e0-4402-a5c4-10b3b0021b27",
   "metadata": {},
   "outputs": [
    {
     "name": "stderr",
     "output_type": "stream",
     "text": [
      "[23:44:39] ../src/storage/storage.cc:202: Using Pooled (Naive) StorageManager for CPU\n"
     ]
    }
   ],
   "source": [
    "import mxnet as mx\n",
    "mx.npx.reset_np()\n",
    "with mx.np_shape(False):\n",
    "    Kmeans_model_params = mx.ndarray.load('model_algo-1')\n",
    "\n",
    "\n"
   ]
  },
  {
   "cell_type": "code",
   "execution_count": 26,
   "id": "85a35881-65c8-4e2e-afa2-b407667f65a4",
   "metadata": {},
   "outputs": [
    {
     "data": {
      "text/html": [
       "<div>\n",
       "<style scoped>\n",
       "    .dataframe tbody tr th:only-of-type {\n",
       "        vertical-align: middle;\n",
       "    }\n",
       "\n",
       "    .dataframe tbody tr th {\n",
       "        vertical-align: top;\n",
       "    }\n",
       "\n",
       "    .dataframe thead th {\n",
       "        text-align: right;\n",
       "    }\n",
       "</style>\n",
       "<table border=\"1\" class=\"dataframe\">\n",
       "  <thead>\n",
       "    <tr style=\"text-align: right;\">\n",
       "      <th></th>\n",
       "      <th>latitude</th>\n",
       "      <th>longitude</th>\n",
       "    </tr>\n",
       "  </thead>\n",
       "  <tbody>\n",
       "    <tr>\n",
       "      <th>0</th>\n",
       "      <td>47.857914</td>\n",
       "      <td>-122.591461</td>\n",
       "    </tr>\n",
       "    <tr>\n",
       "      <th>1</th>\n",
       "      <td>40.974449</td>\n",
       "      <td>-75.201431</td>\n",
       "    </tr>\n",
       "    <tr>\n",
       "      <th>2</th>\n",
       "      <td>11.770554</td>\n",
       "      <td>73.989296</td>\n",
       "    </tr>\n",
       "    <tr>\n",
       "      <th>3</th>\n",
       "      <td>50.964489</td>\n",
       "      <td>2.759827</td>\n",
       "    </tr>\n",
       "    <tr>\n",
       "      <th>4</th>\n",
       "      <td>41.168167</td>\n",
       "      <td>-87.255333</td>\n",
       "    </tr>\n",
       "    <tr>\n",
       "      <th>5</th>\n",
       "      <td>-19.786900</td>\n",
       "      <td>141.356384</td>\n",
       "    </tr>\n",
       "    <tr>\n",
       "      <th>6</th>\n",
       "      <td>35.640705</td>\n",
       "      <td>-116.977051</td>\n",
       "    </tr>\n",
       "    <tr>\n",
       "      <th>7</th>\n",
       "      <td>30.207743</td>\n",
       "      <td>-82.436615</td>\n",
       "    </tr>\n",
       "    <tr>\n",
       "      <th>8</th>\n",
       "      <td>21.937511</td>\n",
       "      <td>-156.529633</td>\n",
       "    </tr>\n",
       "    <tr>\n",
       "      <th>9</th>\n",
       "      <td>35.199379</td>\n",
       "      <td>-97.839157</td>\n",
       "    </tr>\n",
       "  </tbody>\n",
       "</table>\n",
       "</div>"
      ],
      "text/plain": [
       "    latitude   longitude\n",
       "0  47.857914 -122.591461\n",
       "1  40.974449  -75.201431\n",
       "2  11.770554   73.989296\n",
       "3  50.964489    2.759827\n",
       "4  41.168167  -87.255333\n",
       "5 -19.786900  141.356384\n",
       "6  35.640705 -116.977051\n",
       "7  30.207743  -82.436615\n",
       "8  21.937511 -156.529633\n",
       "9  35.199379  -97.839157"
      ]
     },
     "execution_count": 26,
     "metadata": {},
     "output_type": "execute_result"
    }
   ],
   "source": [
    "cluster_centroids_kmeans = pd.DataFrame(Kmeans_model_params[0].asnumpy())\n",
    "cluster_centroids_kmeans.columns=df_geo.columns\n",
    "cluster_centroids_kmeans"
   ]
  },
  {
   "cell_type": "code",
   "execution_count": 27,
   "id": "70f23b75-a9bc-48a9-9f73-3bbecccd84af",
   "metadata": {},
   "outputs": [
    {
     "data": {
      "text/plain": [
       "{'ResponseMetadata': {'RequestId': '73M20KQ39SHMN1Z0',\n",
       "  'HostId': 'NESwYPgUlIQy3kNxsLRG+OFycHL8IwkB8lsXFXamyN4SYxmZL5mdaqMsbG9TBtfPu8H4bnrSyJY=',\n",
       "  'HTTPStatusCode': 200,\n",
       "  'HTTPHeaders': {'x-amz-id-2': 'NESwYPgUlIQy3kNxsLRG+OFycHL8IwkB8lsXFXamyN4SYxmZL5mdaqMsbG9TBtfPu8H4bnrSyJY=',\n",
       "   'x-amz-request-id': '73M20KQ39SHMN1Z0',\n",
       "   'date': 'Tue, 17 Sep 2024 23:45:34 GMT',\n",
       "   'x-amz-server-side-encryption': 'AES256',\n",
       "   'etag': '\"3f7cdfd4f7db398aea0d440c8d614283\"',\n",
       "   'server': 'AmazonS3',\n",
       "   'content-length': '0'},\n",
       "  'RetryAttempts': 0},\n",
       " 'ETag': '\"3f7cdfd4f7db398aea0d440c8d614283\"',\n",
       " 'ServerSideEncryption': 'AES256'}"
      ]
     },
     "execution_count": 27,
     "metadata": {},
     "output_type": "execute_result"
    }
   ],
   "source": [
    "from io import StringIO\n",
    "\n",
    "csv_buffer = StringIO()\n",
    "cluster_centroids_kmeans.to_csv(csv_buffer, index=False)\n",
    "s3_resource = boto3.resource('s3')\n",
    "s3_resource.Object(output_bucket, 'ten_locations_kmeans.csv').put(Body=csv_buffer.getvalue())"
   ]
  },
  {
   "cell_type": "code",
   "execution_count": null,
   "id": "c672716d-f4af-4770-8a26-87265bd6e48d",
   "metadata": {},
   "outputs": [],
   "source": []
  }
 ],
 "metadata": {
  "kernelspec": {
   "display_name": "Python 3 (ipykernel)",
   "language": "python",
   "name": "python3"
  },
  "language_info": {
   "codemirror_mode": {
    "name": "ipython",
    "version": 3
   },
   "file_extension": ".py",
   "mimetype": "text/x-python",
   "name": "python",
   "nbconvert_exporter": "python",
   "pygments_lexer": "ipython3",
   "version": "3.10.14"
  }
 },
 "nbformat": 4,
 "nbformat_minor": 5
}
